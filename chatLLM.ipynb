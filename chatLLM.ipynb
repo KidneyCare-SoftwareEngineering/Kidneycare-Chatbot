{
 "cells": [
  {
   "cell_type": "code",
   "execution_count": null,
   "metadata": {},
   "outputs": [],
   "source": [
    "!pip install --upgrade langchain langchain-ollama langchain-community chromadb\n",
    "!pip install fastapi nest-asyncio pyngrok uvicorn line-bot-sdk python-dotenv"
   ]
  },
  {
   "cell_type": "code",
   "execution_count": 2,
   "metadata": {},
   "outputs": [],
   "source": [
    "from langchain_ollama import OllamaLLM, OllamaEmbeddings\n",
    "from langchain.prompts import PromptTemplate\n",
    "from langchain.chains import RetrievalQA\n",
    "from langchain.vectorstores import Chroma\n",
    "from langchain.document_loaders import TextLoader\n",
    "from langchain.text_splitter import RecursiveCharacterTextSplitter\n",
    "import os\n",
    "\n",
    "import nest_asyncio\n",
    "from pyngrok import ngrok\n",
    "import uvicorn\n",
    "from fastapi import FastAPI, Request, HTTPException\n",
    "from linebot import LineBotApi, WebhookHandler\n",
    "from linebot.exceptions import InvalidSignatureError\n",
    "from linebot.models import MessageEvent, TextMessage, TextSendMessage"
   ]
  },
  {
   "cell_type": "code",
   "execution_count": 3,
   "metadata": {},
   "outputs": [],
   "source": [
    "def load_documents(directory):\n",
    "    documents = []\n",
    "    for filename in os.listdir(directory):\n",
    "        if filename.endswith(\".txt\"):\n",
    "            file_path = os.path.join(directory, filename)\n",
    "            loader = TextLoader(file_path, encoding='utf-8')\n",
    "            documents.extend(loader.load())\n",
    "    return documents\n",
    "\n",
    "docs = load_documents(\"./\")"
   ]
  },
  {
   "cell_type": "code",
   "execution_count": 4,
   "metadata": {},
   "outputs": [],
   "source": [
    "llm = OllamaLLM(\n",
    "    model=\"llama3.2\",\n",
    "    temperature=0.3,\n",
    ")\n",
    "\n",
    "embeddings = OllamaEmbeddings(\n",
    "    model=\"llama3.2\"\n",
    ")\n",
    "\n",
    "text_splitter = RecursiveCharacterTextSplitter(\n",
    "    chunk_size=800,\n",
    "    chunk_overlap=200,\n",
    "    separators=[\"\\n\\n\", \"\\n\", \" \", \"\"]\n",
    ")\n",
    "\n",
    "split_docs = text_splitter.split_documents(docs)\n",
    "\n",
    "vectorstore = Chroma.from_documents(split_docs, embeddings)\n",
    "retriever = vectorstore.as_retriever()"
   ]
  },
  {
   "cell_type": "code",
   "execution_count": 5,
   "metadata": {},
   "outputs": [],
   "source": [
    "prompt_template = \"\"\"\n",
    "คุณเป็น ChatBot ให้คำปรึกษา ที่ชื่อว่า KidneyCare ผู้ช่วยให้คำปรึกษาที่มีความรู้ความเข้าใจลึกซึ้งในเรื่องการดูแลสุขภาพของผู้ป่วยโรคไต รวมถึงการแนะนำการดูแลตนเองหลังการผ่าตัดไต คุณสามารถตอบคำถามเกี่ยวกับโรคไต การดูแลสุขภาพ การรักษาโรคไต และการดูแลตนเองหลังการผ่าตัดไตได้ \n",
    "โดยคุณจะเชี่ยวชาญและแนะนำได้ดีเป็นพิเศษในเรื่องของอาหารการกินสำหรับผู้ป่วยโรคไต\n",
    "ตอบคำถามต่อไปนี้โดยยึดตามข้อมูลที่ให้มาเท่านั้น และควรแน่ใจว่าคำตอบถูกต้องตามข้อมูลที่มีอยู่\n",
    "ถ้าไม่มั่นใจว่ามีข้อมูลก็ควรบอกว่าขออภัยไม่สามารถตอบคำถามนี้ได้ คำถามของคุณจะถูกบันทึกไว้เพื่อปรับปรุงคุณภาพของ AI ของเรา\n",
    "และตอบด้วยความชัดเจน กระชับ ในภาษาไทย ลงท้ายด้วยคำว่า \"ค่ะ\" เพื่อให้สุภาพ และแทนตัวเองด้วย \"ฉัน\" หากคำถามไหนเป็นคำถามง่าย ๆ สามารถตอบได้เลย ไม่ต้องให้คำตอบยาว ๆ แต่ถ้าผู้ใช้ต้องการรายละเอียด ให้ตอบรายละเอียดเพิ่มเติม แต่หากผู้ใช้ไม่บอกว่าต้องการรู้เยอะแค่ไหน ให้ถามก่อนเสมอ\n",
    "\n",
    "บริบท: {context}\n",
    "\n",
    "คำถาม: {question}\n",
    "\n",
    "คำตอบ:\n",
    "\"\"\"\n",
    "\n",
    "prompt = PromptTemplate(\n",
    "    template=prompt_template,\n",
    "    input_variables=[\"context\", \"question\"]\n",
    ")"
   ]
  },
  {
   "cell_type": "code",
   "execution_count": 6,
   "metadata": {},
   "outputs": [],
   "source": [
    "qa_chain = RetrievalQA.from_chain_type(\n",
    "    llm=llm,\n",
    "    chain_type=\"stuff\",\n",
    "    retriever=retriever,\n",
    "    return_source_documents=True,\n",
    "    chain_type_kwargs={\"prompt\": prompt}\n",
    ")"
   ]
  },
  {
   "cell_type": "code",
   "execution_count": null,
   "metadata": {},
   "outputs": [],
   "source": [
    "def ask_question(question):\n",
    "    result = qa_chain({\"query\": question})\n",
    "    return result[\"result\"]\n",
    "\n",
    "question = \"คุณคือใคร\"\n",
    "answer = ask_question(question)\n",
    "print(f\"คำถาม: {question}\")\n",
    "print(f\"คำตอบ: {answer}\")"
   ]
  },
  {
   "cell_type": "code",
   "execution_count": null,
   "metadata": {},
   "outputs": [],
   "source": [
    "from dotenv import load_dotenv\n",
    "from pyngrok import ngrok\n",
    "import os\n",
    "\n",
    "load_dotenv()\n",
    "app = FastAPI()\n",
    "\n",
    "line_bot_api = LineBotApi(os.getenv('LINE_CHANNEL_ACCESS_TOKEN'))\n",
    "handler = WebhookHandler(os.getenv('LINE_CHANNEL_SECRET'))\n",
    "ngrok.set_auth_token(os.getenv('NGROK_AUTH_TOKEN'))"
   ]
  },
  {
   "cell_type": "code",
   "execution_count": null,
   "metadata": {},
   "outputs": [],
   "source": [
    "import requests\n",
    "\n",
    "def start_loading_animation(user_id):\n",
    "    url = \"https://api.line.me/v2/bot/chat/loading/start\"\n",
    "    headers = {\n",
    "        \"Content-Type\": \"application/json\",\n",
    "        \"Authorization\": f\"Bearer {(os.getenv('LINE_CHANNEL_ACCESS_TOKEN'))}\"\n",
    "    }\n",
    "    data = {\"chatId\": user_id}\n",
    "    \n",
    "    response = requests.post(url, headers=headers, json=data)\n",
    "    if response.status_code != 200:\n",
    "        print(\"Failed to start loading animation:\", response.text)\n",
    "\n",
    "@app.post(\"/callback\")\n",
    "async def callback(request: Request):\n",
    "    signature = request.headers['X-Line-Signature']\n",
    "    body = await request.body()\n",
    "\n",
    "    try:\n",
    "        handler.handle(body.decode(\"utf-8\"), signature)\n",
    "    except InvalidSignatureError:\n",
    "        raise HTTPException(status_code=400, detail=\"Invalid signature\")\n",
    "\n",
    "    return 'OK'\n",
    "\n",
    "@handler.add(MessageEvent, message=TextMessage)\n",
    "def handle_message(event):\n",
    "    user_id = event.source.user_id  \n",
    "    start_loading_animation(user_id)  \n",
    "    \n",
    "    text = event.message.text\n",
    "    reply_text = ask_question(text)\n",
    "\n",
    "    line_bot_api.reply_message(\n",
    "        event.reply_token,\n",
    "        TextSendMessage(text=reply_text)\n",
    "    )\n",
    "\n",
    "\n",
    "ngrok_tunnel = ngrok.connect(8000)\n",
    "print('Webhook URL:', ngrok_tunnel.public_url + '/callback')\n",
    "\n",
    "nest_asyncio.apply()\n",
    "\n",
    "if __name__ == \"__main__\":\n",
    "    uvicorn.run(app, host=\"0.0.0.0\", port=8000)"
   ]
  },
  {
   "cell_type": "code",
   "execution_count": 70,
   "metadata": {},
   "outputs": [
    {
     "name": "stdout",
     "output_type": "stream",
     "text": [
      "71656\n"
     ]
    }
   ],
   "source": [
    "!pgrep -af ngrok"
   ]
  },
  {
   "cell_type": "code",
   "execution_count": 71,
   "metadata": {},
   "outputs": [],
   "source": [
    "!killall ngrok"
   ]
  }
 ],
 "metadata": {
  "kernelspec": {
   "display_name": ".venv",
   "language": "python",
   "name": "python3"
  },
  "language_info": {
   "codemirror_mode": {
    "name": "ipython",
    "version": 3
   },
   "file_extension": ".py",
   "mimetype": "text/x-python",
   "name": "python",
   "nbconvert_exporter": "python",
   "pygments_lexer": "ipython3",
   "version": "3.13.1"
  }
 },
 "nbformat": 4,
 "nbformat_minor": 2
}
